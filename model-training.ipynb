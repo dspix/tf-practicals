{
 "cells": [
  {
   "cell_type": "code",
   "execution_count": 1,
   "metadata": {},
   "outputs": [
    {
     "name": "stdout",
     "output_type": "stream",
     "text": [
      "WARNING:tensorflow:From /home/dan/anaconda3/envs/tf-gpu/lib/python3.8/site-packages/tensorflow/python/compat/v2_compat.py:96: disable_resource_variables (from tensorflow.python.ops.variable_scope) is deprecated and will be removed in a future version.\n",
      "Instructions for updating:\n",
      "non-resource variables are not supported in the long term\n"
     ]
    }
   ],
   "source": [
    "import tensorflow.compat.v1 as tf\n",
    "tf.disable_v2_behavior()\n",
    "import logging\n",
    "tf.get_logger().setLevel(logging.ERROR)\n",
    "import sys\n",
    "sys.path.append('code/')\n",
    "import net\n",
    "import json\n",
    "import os\n",
    "import numpy as np\n",
    "import matplotlib.pyplot as plt\n",
    "from datetime import datetime as dt\n",
    "import shutil\n",
    "import glob\n",
    "%matplotlib inline"
   ]
  },
  {
   "cell_type": "code",
   "execution_count": 2,
   "metadata": {},
   "outputs": [],
   "source": [
    "path = 'AOI_5_Khartoum_Train/tfrecords/'\n",
    "training_records = glob.glob(os.path.join(path, '*.tfrecords'))"
   ]
  },
  {
   "cell_type": "code",
   "execution_count": 3,
   "metadata": {},
   "outputs": [
    {
     "data": {
      "text/plain": [
       "['AOI_5_Khartoum_Train/tfrecords/aoi5_khartoum_train_0720.tfrecords',\n",
       " 'AOI_5_Khartoum_Train/tfrecords/aoi5_khartoum_train_0757.tfrecords',\n",
       " 'AOI_5_Khartoum_Train/tfrecords/aoi5_khartoum_train_1283.tfrecords',\n",
       " 'AOI_5_Khartoum_Train/tfrecords/aoi5_khartoum_train_1500.tfrecords',\n",
       " 'AOI_5_Khartoum_Train/tfrecords/aoi5_khartoum_train_0317.tfrecords']"
      ]
     },
     "execution_count": 3,
     "metadata": {},
     "output_type": "execute_result"
    }
   ],
   "source": [
    "training_records[:5]"
   ]
  },
  {
   "cell_type": "code",
   "execution_count": 4,
   "metadata": {},
   "outputs": [],
   "source": [
    "training_samples = net.get_from_records(\n",
    "    training_records, # A list of tfrecord filenames\n",
    "    batch_size=1,\n",
    "    buffer=1015,\n",
    "    shuffle=True,\n",
    ")\n",
    "\n",
    "iterator = tf.data.Iterator.from_structure(\n",
    "    training_samples.output_types,\n",
    "    training_samples.output_shapes\n",
    ")\n",
    "name, image, label = iterator.get_next()"
   ]
  },
  {
   "cell_type": "code",
   "execution_count": 5,
   "metadata": {},
   "outputs": [],
   "source": [
    "model = net.inference(tf.cast(image, tf.float32))\n",
    "batch_labels = net.batch_expand_labels(label, [0, 1])\n",
    "l = net.loss(model, batch_labels)\n",
    "train_op = net.train(l, 1e-5) # Learning rate\n",
    "\n",
    "prediction = tf.argmax(model, axis=3, name=\"prediction\", output_type=tf.int32)\n",
    "\n",
    "def pixel_accuracy(labels, pred):\n",
    "    ac = tf.divide(\n",
    "        tf.reduce_sum(tf.cast(tf.equal(pred, labels), tf.float32)),\n",
    "        tf.cast(tf.size(labels), tf.float32)\n",
    "    )\n",
    "    \n",
    "    return ac\n",
    "\n",
    "accuracy = pixel_accuracy(tf.cast(label, tf.int32), prediction)"
   ]
  },
  {
   "cell_type": "code",
   "execution_count": 6,
   "metadata": {},
   "outputs": [
    {
     "name": "stdout",
     "output_type": "stream",
     "text": [
      "Epoch: 0, loss: 0.3058159351348877, time: 591s\n",
      "Epoch: 1, loss: 0.24635988473892212, time: 585s\n",
      "Epoch: 2, loss: 0.22117702662944794, time: 585s\n",
      "Epoch: 3, loss: 0.21011193096637726, time: 585s\n",
      "Epoch: 4, loss: 0.20025096833705902, time: 585s\n",
      "Epoch: 5, loss: 0.19241447746753693, time: 585s\n",
      "Epoch: 6, loss: 0.1891436129808426, time: 585s\n",
      "Epoch: 7, loss: 0.18671105802059174, time: 585s\n",
      "Epoch: 8, loss: 0.1816474199295044, time: 585s\n",
      "Epoch: 9, loss: 0.1783839762210846, time: 585s\n",
      "Model saved to saved_models/fcn8/model.ckpt\n"
     ]
    }
   ],
   "source": [
    "epochs = 10\n",
    "saver = tf.train.Saver()\n",
    "\n",
    "with tf.Session() as sess:\n",
    "    sess.run(tf.initialize_all_variables())# Initialize the model parameters\n",
    "    for epoch in range(epochs):\n",
    "        sess.run(iterator.make_initializer(training_samples))\n",
    "        track_loss = []\n",
    "        start = dt.now()\n",
    "        while True:\n",
    "            try:\n",
    "                _, loss = sess.run([train_op, l]) \n",
    "                track_loss.append(loss)\n",
    "            except tf.errors.OutOfRangeError:\n",
    "                break\n",
    "        mean_loss = np.array(track_loss).mean()\n",
    "        time_taken = (dt.now() - start).seconds\n",
    "        print('Epoch: {}, loss: {}, time: {}s'.format(epoch, mean_loss, time_taken))\n",
    "    \n",
    "    # Save the trained model\n",
    "    save_path = saver.save(sess, \"saved_models/fcn8/model.ckpt\")\n",
    "    print('Model saved to {}'.format(save_path))"
   ]
  },
  {
   "cell_type": "code",
   "execution_count": 8,
   "metadata": {},
   "outputs": [
    {
     "name": "stdout",
     "output_type": "stream",
     "text": [
      "checkpoint  model.ckpt.data-00000-of-00001  model.ckpt.index  model.ckpt.meta\r\n"
     ]
    }
   ],
   "source": [
    "!ls saved_models/fcn8"
   ]
  },
  {
   "cell_type": "code",
   "execution_count": null,
   "metadata": {},
   "outputs": [],
   "source": []
  }
 ],
 "metadata": {
  "kernelspec": {
   "display_name": "Python 3",
   "language": "python",
   "name": "python3"
  },
  "language_info": {
   "codemirror_mode": {
    "name": "ipython",
    "version": 3
   },
   "file_extension": ".py",
   "mimetype": "text/x-python",
   "name": "python",
   "nbconvert_exporter": "python",
   "pygments_lexer": "ipython3",
   "version": "3.8.2"
  }
 },
 "nbformat": 4,
 "nbformat_minor": 4
}

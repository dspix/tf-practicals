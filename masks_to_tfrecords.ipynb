{
 "cells": [
  {
   "cell_type": "markdown",
   "metadata": {},
   "source": [
    "This first cell downloads the dataset, skip if you already have it."
   ]
  },
  {
   "cell_type": "code",
   "execution_count": 1,
   "metadata": {},
   "outputs": [
    {
     "name": "stdout",
     "output_type": "stream",
     "text": [
      "--2020-11-03 17:14:07--  http://download.tensorflow.org/models/object_detection/tf2/20200711/ssd_resnet50_v1_fpn_640x640_coco17_tpu-8.tar.gz\n",
      "Resolving download.tensorflow.org (download.tensorflow.org)... 216.58.206.144, 2a00:1450:4009:811::2010\n",
      "Connecting to download.tensorflow.org (download.tensorflow.org)|216.58.206.144|:80... connected.\n",
      "HTTP request sent, awaiting response... 200 OK\n",
      "Length: 244817203 (233M) [application/x-tar]\n",
      "Saving to: ‘ssd_resnet50_v1_fpn_640x640_coco17_tpu-8.tar.gz’\n",
      "\n",
      "ssd_resnet50_v1_fpn 100%[===================>] 233.48M  44.5MB/s    in 5.5s    \n",
      "\n",
      "2020-11-03 17:14:14 (42.8 MB/s) - ‘ssd_resnet50_v1_fpn_640x640_coco17_tpu-8.tar.gz’ saved [244817203/244817203]\n",
      "\n"
     ]
    }
   ],
   "source": [
    "!wget http://download.tensorflow.org/models/object_detection/tf2/20200711/ssd_resnet50_v1_fpn_640x640_coco17_tpu-8.tar.gz\n",
    "!tar -xf ssd_resnet50_v1_fpn_640x640_coco17_tpu-8.tar.gz\n",
    "!mv ssd_resnet50_v1_fpn_640x640_coco17_tpu-8/checkpoint models/research/object_detection/test_data/"
   ]
  },
  {
   "cell_type": "code",
   "execution_count": 1,
   "metadata": {},
   "outputs": [
    {
     "name": "stdout",
     "output_type": "stream",
     "text": [
      "   1015    9128   74982\r\n"
     ]
    }
   ],
   "source": [
    "!ls -hault AOI_5_Khartoum_Train/tfrecords/ | wc"
   ]
  },
  {
   "cell_type": "code",
   "execution_count": 1,
   "metadata": {},
   "outputs": [
    {
     "name": "stdout",
     "output_type": "stream",
     "text": [
      "WARNING:tensorflow:From /home/dan/anaconda3/envs/tf-gpu/lib/python3.8/site-packages/tensorflow/python/compat/v2_compat.py:96: disable_resource_variables (from tensorflow.python.ops.variable_scope) is deprecated and will be removed in a future version.\n",
      "Instructions for updating:\n",
      "non-resource variables are not supported in the long term\n"
     ]
    }
   ],
   "source": [
    "import gdal\n",
    "import sys\n",
    "import ogr\n",
    "import os\n",
    "import numpy as np\n",
    "import matplotlib.pyplot as plt\n",
    "import tensorflow.compat.v1 as tf\n",
    "tf.disable_v2_behavior()\n",
    "import logging\n",
    "tf.get_logger().setLevel(logging.ERROR)\n",
    "import random\n",
    "import glob\n",
    "import re\n",
    "import json\n",
    "%matplotlib notebook"
   ]
  },
  {
   "cell_type": "markdown",
   "metadata": {},
   "source": [
    "Functions to encode the pixel data and labels."
   ]
  },
  {
   "cell_type": "code",
   "execution_count": 9,
   "metadata": {},
   "outputs": [],
   "source": [
    "def _int64(value):\n",
    "    return tf.train.Feature(int64_list=tf.train.Int64List(value=[value]))\n",
    "\n",
    "def _bytes(value):\n",
    "    return tf.train.Feature(bytes_list=tf.train.BytesList(value=[value]))\n",
    "\n",
    "def _encode_sample(name, pixels, labels):\n",
    "    bands, rows, cols = pixels.shape\n",
    "    example = tf.train.Example(\n",
    "        features=tf.train.Features(\n",
    "            feature={\n",
    "                'name': _bytes(tf.compat.as_bytes(name)),\n",
    "                'height': _int64(rows),\n",
    "                'width': _int64(cols),\n",
    "                'depth': _int64(bands),\n",
    "                'image': _bytes(pixels.astype(np.uint8).tobytes()),\n",
    "                'label': _bytes(labels.astype(np.uint8).tobytes()),\n",
    "            }))\n",
    "\n",
    "    return example"
   ]
  },
  {
   "cell_type": "code",
   "execution_count": 10,
   "metadata": {},
   "outputs": [],
   "source": [
    "def rasterise(rows, cols, gt, dtype, src):\n",
    "    driver = gdal.GetDriverByName('MEM')\n",
    "    mem_raster = driver.Create(\n",
    "        '',\n",
    "        cols,\n",
    "        rows,\n",
    "        dtype\n",
    "    )\n",
    "    mem_raster.SetGeoTransform(gt)\n",
    "    gdal.RasterizeLayer(mem_raster, [1], src.GetLayer(), burn_values=[1])\n",
    "    \n",
    "    return mem_raster"
   ]
  },
  {
   "cell_type": "markdown",
   "metadata": {},
   "source": [
    "Match the tif files with their geometries."
   ]
  },
  {
   "cell_type": "code",
   "execution_count": 11,
   "metadata": {},
   "outputs": [],
   "source": [
    "tifs = glob.glob('AOI_5_Khartoum_Train/RGB-PanSharpen/*.tif')\n",
    "geojsons = glob.glob('AOI_5_Khartoum_Train/geojson/buildings/*.geojson')"
   ]
  },
  {
   "cell_type": "code",
   "execution_count": 12,
   "metadata": {},
   "outputs": [],
   "source": [
    "tif_ids = [int(re.findall(r'\\d+', tif)[2]) for tif in tifs]\n",
    "geojson_ids = [int(re.findall(r'\\d+', js)[2]) for js in geojsons]\n",
    "\n",
    "train_data = [[tifs[i], geojsons[geojson_ids.index(id_)]] for i, id_ in enumerate(tif_ids)]"
   ]
  },
  {
   "cell_type": "markdown",
   "metadata": {},
   "source": [
    "Loop through the files and add to tfrecords."
   ]
  },
  {
   "cell_type": "code",
   "execution_count": 59,
   "metadata": {},
   "outputs": [],
   "source": [
    "out_path = 'AOI_5_Khartoum_Train/tfrecords/'\n",
    "fn_root = 'aoi5_khartoum_train_'\n",
    "\n",
    "track_sum = np.array([0., 0., 0.])\n",
    "\n",
    "def scale_to_8bit(pix):\n",
    "    scaled = np.zeros(pix.shape, dtype=float)\n",
    "    for b in range(len(pix)):\n",
    "        scaled[b] = pix[b]/pix[b].max()\n",
    "    \n",
    "    return (scaled*255).astype(np.uint8)\n",
    "\n",
    "for key, (rgb_fn, labels_fn) in enumerate(train_data):\n",
    "    img = gdal.Open(rgb_fn)\n",
    "    gt = img.GetGeoTransform()\n",
    "    nrows = img.RasterYSize\n",
    "    ncols = img.RasterXSize\n",
    "    pixels = img.ReadAsArray()\n",
    "    \n",
    "    # Scale to 8bit\n",
    "    nbands, nrows, ncols = pixels.shape\n",
    "    pix_8bit = scale_to_8bit(pixels)\n",
    "    \n",
    "    band_mean = pix_8bit.reshape((3, nrows*ncols)).sum(axis=1)\n",
    "    track_sum += band_mean\n",
    "\n",
    "    geo = ogr.Open(labels_fn)\n",
    "    layer = geo.GetLayer()\n",
    "    \n",
    "    labels = rasterise(nrows, ncols, gt, gdal.GDT_Byte, geo).ReadAsArray()\n",
    "    record = _encode_sample(str(tif_ids[key]), pix_8bit, labels)\n",
    "    writer = tf.io.TFRecordWriter(\n",
    "            os.path.join(out_path,'{}{:04d}.tfrecords'.format(fn_root, tif_ids[key]))\n",
    "        )\n",
    "    writer.write(record.SerializeToString())\n",
    "    geo = None\n",
    "    img = None\n",
    "    writer.close()\n",
    "    "
   ]
  }
 ],
 "metadata": {
  "kernelspec": {
   "display_name": "Python 3",
   "language": "python",
   "name": "python3"
  },
  "language_info": {
   "codemirror_mode": {
    "name": "ipython",
    "version": 3
   },
   "file_extension": ".py",
   "mimetype": "text/x-python",
   "name": "python",
   "nbconvert_exporter": "python",
   "pygments_lexer": "ipython3",
   "version": "3.6.6"
  }
 },
 "nbformat": 4,
 "nbformat_minor": 4
}
